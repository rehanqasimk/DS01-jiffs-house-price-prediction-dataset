{
 "cells": [
  {
   "cell_type": "code",
   "execution_count": 1,
   "metadata": {},
   "outputs": [],
   "source": [
    "import numpy as np\n",
    "import pandas as pd"
   ]
  },
  {
   "cell_type": "code",
   "execution_count": 15,
   "metadata": {},
   "outputs": [
    {
     "name": "stdout",
     "output_type": "stream",
     "text": [
      "<class 'pandas.core.frame.DataFrame'>\n",
      "RangeIndex: 4954 entries, 0 to 4953\n",
      "Data columns (total 16 columns):\n",
      " #   Column                   Non-Null Count  Dtype  \n",
      "---  ------                   --------------  -----  \n",
      " 0   land_size_sqm            4954 non-null   object \n",
      " 1   house_size_sqm           4954 non-null   object \n",
      " 2   no_of_rooms              4954 non-null   int64  \n",
      " 3   no_of_bathrooms          4954 non-null   int64  \n",
      " 4   large_living_room        4954 non-null   object \n",
      " 5   parking_space            4954 non-null   object \n",
      " 6   front_garden             4954 non-null   object \n",
      " 7   swimming_pool            4954 non-null   object \n",
      " 8   distance_to_school       4954 non-null   object \n",
      " 9   wall_fence               4954 non-null   object \n",
      " 10  house_age                4954 non-null   object \n",
      " 11  water_front              4954 non-null   object \n",
      " 12  distance_to_supermarket  4954 non-null   object \n",
      " 13  crime_rate_index         4954 non-null   float64\n",
      " 14  room_size                4954 non-null   object \n",
      " 15  property_value           4954 non-null   int64  \n",
      "dtypes: float64(1), int64(3), object(12)\n",
      "memory usage: 619.4+ KB\n"
     ]
    }
   ],
   "source": [
    "pd.read_csv('house_price_dataset_original_v2_with_categorical_features.csv').info()"
   ]
  },
  {
   "cell_type": "code",
   "execution_count": 3,
   "metadata": {},
   "outputs": [],
   "source": [
    "my_data = np.genfromtxt('jiffs_house_price_my_dataset_v1.csv', delimiter=',')"
   ]
  },
  {
   "cell_type": "code",
   "execution_count": 4,
   "metadata": {},
   "outputs": [
    {
     "data": {
      "text/plain": [
       "array([[        nan,         nan,         nan, ...,         nan,\n",
       "                nan,         nan],\n",
       "       [2.01000e+02, 1.77000e+02, 3.00000e+00, ..., 0.00000e+00,\n",
       "        6.80000e+00, 1.67611e+05],\n",
       "       [1.96000e+02, 1.82000e+02, 4.00000e+00, ..., 0.00000e+00,\n",
       "        4.10000e+00, 1.86945e+05],\n",
       "       ...,\n",
       "       [1.53000e+02, 1.47000e+02, 3.00000e+00, ..., 0.00000e+00,\n",
       "        4.70000e+00, 1.38088e+05],\n",
       "       [1.80000e+02, 1.58000e+02, 2.00000e+00, ..., 0.00000e+00,\n",
       "        3.40000e+00, 1.51907e+05],\n",
       "       [6.95000e+02, 6.19000e+02, 8.00000e+00, ..., 0.00000e+00,\n",
       "        4.00000e-01, 5.66249e+05]])"
      ]
     },
     "execution_count": 4,
     "metadata": {},
     "output_type": "execute_result"
    }
   ],
   "source": [
    "my_data"
   ]
  },
  {
   "cell_type": "code",
   "execution_count": 5,
   "metadata": {},
   "outputs": [
    {
     "data": {
      "text/plain": [
       "(4955, 14)"
      ]
     },
     "execution_count": 5,
     "metadata": {},
     "output_type": "execute_result"
    }
   ],
   "source": [
    "my_data.shape"
   ]
  },
  {
   "cell_type": "code",
   "execution_count": 8,
   "metadata": {},
   "outputs": [],
   "source": [
    "my_data = np.delete(my_data, (0), axis=0)"
   ]
  },
  {
   "cell_type": "code",
   "execution_count": 9,
   "metadata": {},
   "outputs": [
    {
     "data": {
      "text/plain": [
       "array([[2.01000e+02, 1.77000e+02, 3.00000e+00, ..., 0.00000e+00,\n",
       "        6.80000e+00, 1.67611e+05],\n",
       "       [1.96000e+02, 1.82000e+02, 4.00000e+00, ..., 0.00000e+00,\n",
       "        4.10000e+00, 1.86945e+05],\n",
       "       [1.98000e+02, 1.82000e+02, 4.00000e+00, ..., 0.00000e+00,\n",
       "        2.10000e+00, 1.54628e+05],\n",
       "       ...,\n",
       "       [1.53000e+02, 1.47000e+02, 3.00000e+00, ..., 0.00000e+00,\n",
       "        4.70000e+00, 1.38088e+05],\n",
       "       [1.80000e+02, 1.58000e+02, 2.00000e+00, ..., 0.00000e+00,\n",
       "        3.40000e+00, 1.51907e+05],\n",
       "       [6.95000e+02, 6.19000e+02, 8.00000e+00, ..., 0.00000e+00,\n",
       "        4.00000e-01, 5.66249e+05]])"
      ]
     },
     "execution_count": 9,
     "metadata": {},
     "output_type": "execute_result"
    }
   ],
   "source": [
    "my_data"
   ]
  },
  {
   "cell_type": "code",
   "execution_count": 10,
   "metadata": {},
   "outputs": [
    {
     "data": {
      "text/plain": [
       "(4954, 14)"
      ]
     },
     "execution_count": 10,
     "metadata": {},
     "output_type": "execute_result"
    }
   ],
   "source": [
    "my_data.shape"
   ]
  },
  {
   "cell_type": "code",
   "execution_count": 11,
   "metadata": {},
   "outputs": [
    {
     "ename": "AttributeError",
     "evalue": "'numpy.ndarray' object has no attribute 'info'",
     "output_type": "error",
     "traceback": [
      "\u001b[1;31m---------------------------------------------------------------------------\u001b[0m",
      "\u001b[1;31mAttributeError\u001b[0m                            Traceback (most recent call last)",
      "\u001b[1;32m<ipython-input-11-5bcd1a88e7f5>\u001b[0m in \u001b[0;36m<module>\u001b[1;34m\u001b[0m\n\u001b[1;32m----> 1\u001b[1;33m \u001b[0mmy_data\u001b[0m\u001b[1;33m.\u001b[0m\u001b[0minfo\u001b[0m\u001b[1;33m(\u001b[0m\u001b[1;33m)\u001b[0m\u001b[1;33m\u001b[0m\u001b[1;33m\u001b[0m\u001b[0m\n\u001b[0m",
      "\u001b[1;31mAttributeError\u001b[0m: 'numpy.ndarray' object has no attribute 'info'"
     ]
    }
   ],
   "source": [
    "my_data.info()"
   ]
  },
  {
   "cell_type": "code",
   "execution_count": null,
   "metadata": {},
   "outputs": [],
   "source": []
  }
 ],
 "metadata": {
  "kernelspec": {
   "display_name": "Python 3",
   "language": "python",
   "name": "python3"
  },
  "language_info": {
   "codemirror_mode": {
    "name": "ipython",
    "version": 3
   },
   "file_extension": ".py",
   "mimetype": "text/x-python",
   "name": "python",
   "nbconvert_exporter": "python",
   "pygments_lexer": "ipython3",
   "version": "3.8.5"
  }
 },
 "nbformat": 4,
 "nbformat_minor": 4
}
